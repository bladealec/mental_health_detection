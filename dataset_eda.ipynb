{
 "cells": [
  {
   "cell_type": "code",
   "execution_count": null,
   "id": "6645a750",
   "metadata": {},
   "outputs": [],
   "source": [
    "import pandas as pd\n",
    "import numpy as np\n",
    "import matplotlib.pyplot as plt\n",
    "import seaborn as sns"
   ]
  },
  {
   "cell_type": "code",
   "execution_count": null,
   "id": "acd085b3",
   "metadata": {},
   "outputs": [],
   "source": [
    "df = pd.read_csv('data/Deepression.csv')\n",
    "\n",
    "print(\"First few rows of the dataset:\")\n",
    "print(df.head())"
   ]
  },
  {
   "cell_type": "code",
   "execution_count": null,
   "id": "04112961",
   "metadata": {},
   "outputs": [],
   "source": [
    "print(\"\\nBasic Statistics:\")\n",
    "print(df.describe())"
   ]
  },
  {
   "cell_type": "code",
   "execution_count": null,
   "id": "28e86288",
   "metadata": {},
   "outputs": [],
   "source": [
    "# Distribution of Depression States\n",
    "plt.figure(figsize=(8, 6))\n",
    "sns.countplot(x='Depression State', data=df, palette='viridis')\n",
    "plt.title('Distribution of Depression States')\n",
    "plt.show()"
   ]
  },
  {
   "cell_type": "code",
   "execution_count": null,
   "id": "64740909",
   "metadata": {},
   "outputs": [],
   "source": [
    "# Correlation matrix\n",
    "corr_matrix = df.iloc[:, 1:-1].astype(float).corr()\n",
    "plt.figure(figsize=(12, 8))\n",
    "sns.heatmap(corr_matrix, annot=True, cmap='coolwarm')\n",
    "plt.title('Correlation Matrix of Symptoms')\n",
    "plt.show()"
   ]
  },
  {
   "cell_type": "code",
   "execution_count": null,
   "id": "cc9e9902",
   "metadata": {},
   "outputs": [],
   "source": [
    "# Boxplot for each symptom by Depression State\n",
    "plt.figure(figsize=(15, 10))\n",
    "symptoms = df.columns[1:-1]\n",
    "for i, symptom in enumerate(symptoms, 1):\n",
    "    plt.subplot(4, 4, i)\n",
    "    sns.boxplot(x='Depression State', y=symptom, data=df, palette='viridis')\n",
    "    plt.title(symptom)\n",
    "    plt.tight_layout()\n",
    "plt.show()"
   ]
  },
  {
   "cell_type": "code",
   "execution_count": null,
   "id": "35563339",
   "metadata": {},
   "outputs": [],
   "source": [
    "# Pairplot for symptoms\n",
    "sns.pairplot(df[symptoms])\n",
    "plt.show()"
   ]
  },
  {
   "cell_type": "code",
   "execution_count": null,
   "id": "9c22e61b",
   "metadata": {},
   "outputs": [],
   "source": []
  }
 ],
 "metadata": {
  "kernelspec": {
   "display_name": "Python 3 (ipykernel)",
   "language": "python",
   "name": "python3"
  },
  "language_info": {
   "codemirror_mode": {
    "name": "ipython",
    "version": 3
   },
   "file_extension": ".py",
   "mimetype": "text/x-python",
   "name": "python",
   "nbconvert_exporter": "python",
   "pygments_lexer": "ipython3",
   "version": "3.10.9"
  }
 },
 "nbformat": 4,
 "nbformat_minor": 5
}
