{
 "cells": [
  {
   "cell_type": "code",
   "execution_count": null,
   "id": "c3fbc668",
   "metadata": {},
   "outputs": [],
   "source": [
    "import pandas as pd\n",
    "import numpy as np\n",
    "import matplotlib.pyplot as plt\n",
    "import seaborn as sns\n",
    "from sklearn.decomposition import PCA\n",
    "from sklearn.cluster import KMeans\n",
    "from sklearn.model_selection import train_test_split\n",
    "from sklearn.ensemble import RandomForestClassifier\n",
    "from sklearn.metrics import classification_report, confusion_matrix"
   ]
  },
  {
   "cell_type": "code",
   "execution_count": null,
   "id": "b708a725",
   "metadata": {},
   "outputs": [],
   "source": [
    "df = pd.read_csv('data/Deepression.csv')"
   ]
  },
  {
   "cell_type": "code",
   "execution_count": null,
   "id": "0568ea24",
   "metadata": {},
   "outputs": [],
   "source": [
    "# PCA for dimensionality reduction\n",
    "symptoms = df.columns[1:-1]\n",
    "df[symptoms] = df[symptoms].astype(float).fillna(df[symptoms].mean())\n",
    "\n",
    "pca = PCA(n_components=2)\n",
    "pca_result = pca.fit_transform(df[symptoms].astype(float))\n",
    "df['PCA1'] = pca_result[:, 0]\n",
    "df['PCA2'] = pca_result[:, 1]\n",
    "\n",
    "plt.figure(figsize=(10, 6))\n",
    "sns.scatterplot(x='PCA1', y='PCA2', hue='Depression State', data=df, palette='viridis')\n",
    "plt.title('PCA of Symptoms')\n",
    "plt.show()"
   ]
  },
  {
   "cell_type": "code",
   "execution_count": null,
   "id": "853b50ae",
   "metadata": {},
   "outputs": [],
   "source": [
    "# Clustering using KMeans\n",
    "kmeans = KMeans(n_clusters=4)\n",
    "df['Cluster'] = kmeans.fit_predict(df[symptoms].astype(float))\n",
    "\n",
    "plt.figure(figsize=(10, 6))\n",
    "sns.scatterplot(x='PCA1', y='PCA2', hue='Cluster', data=df, palette='viridis')\n",
    "plt.title('KMeans Clustering of Symptoms')\n",
    "plt.show()"
   ]
  },
  {
   "cell_type": "code",
   "execution_count": null,
   "id": "749d1e41",
   "metadata": {},
   "outputs": [],
   "source": [
    "print(\"Before dropping NaN values in 'Depression State':\")\n",
    "print(df['Depression State'].isna().sum())\n",
    "df = df.dropna(subset=['Depression State'])\n",
    "print(\"After dropping NaN values in 'Depression State':\")\n",
    "print(df['Depression State'].isna().sum())"
   ]
  },
  {
   "cell_type": "code",
   "execution_count": null,
   "id": "c8a199ae",
   "metadata": {},
   "outputs": [],
   "source": [
    "# Predictive modeling\n",
    "X = df[symptoms]\n",
    "y = df['Depression State']\n",
    "\n",
    "y = y.map({'No depression': 0, 'Mild': 1, 'Moderate': 2, 'Severe': 3})\n",
    "\n",
    "X_train, X_test, y_train, y_test = train_test_split(X, y, test_size=0.3, random_state=42)\n",
    "\n",
    "model = RandomForestClassifier(random_state=42)\n",
    "model.fit(X_train, y_train)\n",
    "\n",
    "y_pred = model.predict(X_test)\n",
    "\n",
    "print(\"Classification Report:\")\n",
    "print(classification_report(y_test, y_pred))\n",
    "\n",
    "print(\"Confusion Matrix:\")\n",
    "plt.figure(figsize=(8, 6))\n",
    "sns.heatmap(confusion_matrix(y_test, y_pred), annot=True, cmap='viridis', fmt='d')\n",
    "plt.xlabel('Predicted')\n",
    "plt.ylabel('Actual')\n",
    "plt.show()"
   ]
  },
  {
   "cell_type": "code",
   "execution_count": null,
   "id": "6b7f1bdc",
   "metadata": {},
   "outputs": [],
   "source": []
  }
 ],
 "metadata": {
  "kernelspec": {
   "display_name": "Python 3 (ipykernel)",
   "language": "python",
   "name": "python3"
  },
  "language_info": {
   "codemirror_mode": {
    "name": "ipython",
    "version": 3
   },
   "file_extension": ".py",
   "mimetype": "text/x-python",
   "name": "python",
   "nbconvert_exporter": "python",
   "pygments_lexer": "ipython3",
   "version": "3.10.9"
  }
 },
 "nbformat": 4,
 "nbformat_minor": 5
}
